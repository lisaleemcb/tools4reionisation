{
 "cells": [
  {
   "cell_type": "code",
   "execution_count": 1,
   "id": "a5c60108",
   "metadata": {},
   "outputs": [],
   "source": [
    "%load_ext autoreload\n",
    "%autoreload 2\n",
    "%config Completer.use_jedi = False"
   ]
  },
  {
   "cell_type": "code",
   "execution_count": 2,
   "id": "2458b6bc",
   "metadata": {},
   "outputs": [
    {
     "ename": "ModuleNotFoundError",
     "evalue": "No module named 'camb'",
     "output_type": "error",
     "traceback": [
      "\u001b[0;31m---------------------------------------------------------------------------\u001b[0m",
      "\u001b[0;31mModuleNotFoundError\u001b[0m                       Traceback (most recent call last)",
      "Cell \u001b[0;32mIn[2], line 5\u001b[0m\n\u001b[1;32m      3\u001b[0m \u001b[38;5;28;01mimport\u001b[39;00m \u001b[38;5;21;01mnumpy\u001b[39;00m \u001b[38;5;28;01mas\u001b[39;00m \u001b[38;5;21;01mnp\u001b[39;00m \n\u001b[1;32m      4\u001b[0m \u001b[38;5;28;01mimport\u001b[39;00m \u001b[38;5;21;01mmatplotlib\u001b[39;00m\u001b[38;5;21;01m.\u001b[39;00m\u001b[38;5;21;01mpyplot\u001b[39;00m \u001b[38;5;28;01mas\u001b[39;00m \u001b[38;5;21;01mplt\u001b[39;00m\n\u001b[0;32m----> 5\u001b[0m \u001b[38;5;28;01mfrom\u001b[39;00m \u001b[38;5;21;01mksz_model\u001b[39;00m \u001b[38;5;28;01mimport\u001b[39;00m KSZ_power\n\u001b[1;32m      6\u001b[0m \u001b[38;5;28;01mfrom\u001b[39;00m \u001b[38;5;21;01mreio_mod\u001b[39;00m \u001b[38;5;28;01mimport\u001b[39;00m xe_asym, xe_asym2, xe2tau, xe_tanh\n\u001b[1;32m      7\u001b[0m \u001b[38;5;28;01mfrom\u001b[39;00m \u001b[38;5;21;01mscipy\u001b[39;00m\u001b[38;5;21;01m.\u001b[39;00m\u001b[38;5;21;01minterpolate\u001b[39;00m \u001b[38;5;28;01mimport\u001b[39;00m interp1d\n",
      "File \u001b[0;32m~/tools4reionisation/ksz_model.py:6\u001b[0m\n\u001b[1;32m      1\u001b[0m \u001b[38;5;66;03m##############################################\u001b[39;00m\n\u001b[1;32m      2\u001b[0m \u001b[38;5;66;03m######## Computes kSZ power spectrum #########\u001b[39;00m\n\u001b[1;32m      3\u001b[0m \u001b[38;5;66;03m### Copyright Stephane Ilic & Adélie Gorce ###\u001b[39;00m\n\u001b[1;32m      4\u001b[0m \u001b[38;5;66;03m##############################################\u001b[39;00m\n\u001b[0;32m----> 6\u001b[0m \u001b[38;5;28;01mimport\u001b[39;00m \u001b[38;5;21;01mcamb\u001b[39;00m\n\u001b[1;32m      7\u001b[0m \u001b[38;5;28;01mfrom\u001b[39;00m \u001b[38;5;21;01mcamb\u001b[39;00m \u001b[38;5;28;01mimport\u001b[39;00m model, initialpower\n\u001b[1;32m      8\u001b[0m \u001b[38;5;28;01mimport\u001b[39;00m \u001b[38;5;21;01mnumpy\u001b[39;00m \u001b[38;5;28;01mas\u001b[39;00m \u001b[38;5;21;01mnp\u001b[39;00m\n",
      "\u001b[0;31mModuleNotFoundError\u001b[0m: No module named 'camb'"
     ]
    }
   ],
   "source": [
    "import sys, platform, os\n",
    "import copy as cp\n",
    "import numpy as np \n",
    "import matplotlib.pyplot as plt\n",
    "from ksz_model import KSZ_power\n",
    "from reio_mod import xe_asym, xe_asym2, xe2tau, xe_tanh\n",
    "from scipy.interpolate import interp1d\n",
    "from matplotlib import cm, colors, rcParams"
   ]
  },
  {
   "cell_type": "code",
   "execution_count": null,
   "id": "11ace797",
   "metadata": {},
   "outputs": [],
   "source": [
    "camb_path = '/Users/lisaleemcb/CAMB' # os.path.realpath(os.path.join(os.getcwd(),'..'))\n",
    "sys.path.append(camb_path)\n",
    "\n",
    "print(sys.path)\n",
    "import camb\n",
    "from camb import model, initialpower\n",
    "print('Using CAMB %s installed at %s'%(camb.__version__,os.path.dirname(camb.__file__)))"
   ]
  },
  {
   "cell_type": "code",
   "execution_count": null,
   "id": "bbbe6ea3",
   "metadata": {},
   "outputs": [],
   "source": [
    "plt.style.use('seaborn-v0_8-colorblind')\n",
    "plt.rc('text', usetex=True)\n",
    "plt.rc('font', family='serif')\n",
    "\n",
    "palette = plt.rcParams['axes.prop_cycle'].by_key()['color']\n",
    "ls_list = ['-', '--', ':', '-.']"
   ]
  },
  {
   "cell_type": "code",
   "execution_count": null,
   "id": "38af7f2a",
   "metadata": {},
   "outputs": [],
   "source": [
    "rcParams.update({'font.size': 16})\n",
    "rcParams['axes.linewidth'] = 1.8\n",
    "plt.ion()"
   ]
  },
  {
   "cell_type": "code",
   "execution_count": null,
   "id": "36520f5f",
   "metadata": {},
   "outputs": [],
   "source": [
    "from astropy.cosmology import Planck18\n",
    "\n",
    "z = np.linspace(0, 20, 500)\n",
    "ells = np.linspace(100, 10000, 20)\n",
    "\n",
    "z_recomb = 1100.0\n",
    "z3 = np.linspace(0, z_recomb, 10000)"
   ]
  },
  {
   "cell_type": "markdown",
   "id": "9a8bc429",
   "metadata": {},
   "source": [
    "### Comparison of Adélie's module and CAMB's code"
   ]
  },
  {
   "cell_type": "code",
   "execution_count": null,
   "id": "8aa5e002",
   "metadata": {},
   "outputs": [],
   "source": [
    "zre_H = 7.\n",
    "dz_H = .5\n",
    "zend_H = zre_H - dz_H\n",
    "\n",
    "zre_HeI = 6.0\n",
    "zre_HeII = 3.5\n",
    "dz_HeI = 0.5\n",
    "dz_HeII = 0.5\n",
    "zre_HeI_start = 10.0\n",
    "zre_HeII_start = 10.0"
   ]
  },
  {
   "cell_type": "code",
   "execution_count": null,
   "id": "6cc25f2f",
   "metadata": {},
   "outputs": [],
   "source": [
    "z_CAMB = np.loadtxt('z_CAMB.txt')\n",
    "tgh_CAMB = np.loadtxt('tgh_CAMB.txt')"
   ]
  },
  {
   "cell_type": "code",
   "execution_count": null,
   "id": "80bf15cd",
   "metadata": {},
   "outputs": [],
   "source": [
    "#Set up a new set of parameters for CAMB. This will be our fiducial model\n",
    "pars = camb.CAMBparams()\n",
    "#This function sets up CosmoMC-like settings, with one massive neutrino and helium set using BBN consistency\n",
    "pars.set_cosmology(H0=67.5, ombh2=0.022, omch2=0.122, mnu=0.06, omk=0)\n",
    "pars.InitPower.set_params(As=2e-9, ns=0.965, r=0)\n",
    "pars.set_for_lmax(2500, lens_potential_accuracy=0);"
   ]
  },
  {
   "cell_type": "code",
   "execution_count": null,
   "id": "49f0a07e",
   "metadata": {},
   "outputs": [],
   "source": [
    "pars.Reion"
   ]
  },
  {
   "cell_type": "code",
   "execution_count": null,
   "id": "1e0de365",
   "metadata": {},
   "outputs": [],
   "source": [
    "pars.Reion.redshift = zre_H\n",
    "pars.Reion.delta_redshift = delta_H\n",
    "pars.Reion.max_redshift = 50.0\n",
    "\n",
    "pars.Reion.heliumI_redshift = heliumI_redshift\n",
    "pars.Reion.heliumI_delta_redshift = heliumI_delta_redshift\n",
    "\n",
    "pars.Reion.heliumII_redshift = heliumII_redshift\n",
    "pars.Reion.heliumII_delta_redshift = heliumII_delta_redshift\n",
    "\n",
    "pars.Reion.include_heliumI_fullreion = True\n",
    "pars.Reion.include_heliumII_fullreion = True\n",
    "\n",
    "pars.Reion"
   ]
  },
  {
   "cell_type": "code",
   "execution_count": null,
   "id": "e0408073",
   "metadata": {},
   "outputs": [],
   "source": [
    "np.arange(.1,.5,.05), np.arange(.005,.25, .05)"
   ]
  },
  {
   "cell_type": "code",
   "execution_count": null,
   "id": "a8c7cbf1",
   "metadata": {},
   "outputs": [],
   "source": [
    "results = camb.get_results(pars)\n",
    "x_e = results.get_background_redshift_evolution(z_CAMB, vars=['x_e'])"
   ]
  },
  {
   "cell_type": "code",
   "execution_count": null,
   "id": "4f055c71",
   "metadata": {},
   "outputs": [],
   "source": [
    "xe_Adelie = xe_tanh(z_CAMB, ze=zre_H, deltaz=delta_H, helium1=True, helium2=True,\n",
    "                        helium1_redshift=heliumI_redshift, helium1_deltaredshift=heliumI_delta_redshift,\n",
    "                        helium2_redshift=heliumII_redshift, helium2_deltaredshift=heliumII_delta_redshift,)"
   ]
  },
  {
   "cell_type": "code",
   "execution_count": null,
   "id": "5a593663",
   "metadata": {},
   "outputs": [],
   "source": [
    "zre_H, heliumI_redshift"
   ]
  },
  {
   "cell_type": "code",
   "execution_count": null,
   "id": "9e99c37a",
   "metadata": {},
   "outputs": [],
   "source": [
    "plt.plot(z, xe_tanh(z, ze=zre_H, deltaz=delta_H, helium1=True, helium2=True,\n",
    "                        helium1_redshift=heliumI_redshift, helium1_deltaredshift=heliumI_delta_redshift,\n",
    "                        helium2_redshift=heliumII_redshift, helium2_deltaredshift=heliumII_delta_redshift,))\n",
    "\n",
    "plt.plot(z, xe_tanh(z, ze=7, deltaz=.5, helium1=True, helium2=True,\n",
    "                        helium1_redshift=7, helium1_deltaredshift=heliumI_delta_redshift,\n",
    "                        helium2_redshift=heliumII_redshift, helium2_deltaredshift=heliumII_delta_redshift,))\n",
    "\n",
    "plt.plot(z, xe_tanh(z, ze=7, deltaz=.5, helium1=True, helium2=True,\n",
    "                        helium1_redshift=3.5, helium1_deltaredshift=heliumI_delta_redshift,\n",
    "                        helium2_redshift=heliumII_redshift, helium2_deltaredshift=heliumII_delta_redshift,))"
   ]
  },
  {
   "cell_type": "code",
   "execution_count": null,
   "id": "81164db3",
   "metadata": {},
   "outputs": [],
   "source": [
    "fig, ax = plt.subplots(1,2, figsize=(12,5))\n",
    "\n",
    "ax[0].plot(z_CAMB, xe_Adelie, label='Adelie')\n",
    "ax[0].plot(z_CAMB, x_e['x_e'], label='CAMB', ls=':', color=palette[2])\n",
    "#ax[0].plot(z_CAMB, tgh_CAMB, label='CAMB tgh', ls=':', color=palette[2])\n",
    "\n",
    "ax[1].plot(z_CAMB, (xe_Adelie / x_e['x_e']), label='difference (Adelie / CAMB)')\n",
    "ax[1].axvline(zre_H)\n",
    "ax[1].axvline(heliumI_redshift)\n",
    "ax[1].axvline(heliumII_redshift)\n",
    "\n",
    "#ax[1].set_ylim(-2.164667223247818e-09, 1e-8)\n",
    "\n",
    "ax[0].legend(fontsize=12)\n",
    "ax[1].legend(fontsize=12)\n",
    "\n",
    "#ax[1].set_ylim(-5,1)\n",
    "\n",
    "fig.tight_layout()"
   ]
  },
  {
   "cell_type": "markdown",
   "id": "997253d2",
   "metadata": {},
   "source": [
    "### Reionization histories consistent with the Planck '18 measurement of, $\\tau$, the optical depth"
   ]
  },
  {
   "cell_type": "code",
   "execution_count": null,
   "id": "4373e62a",
   "metadata": {},
   "outputs": [],
   "source": [
    "zend_list_H = np.linspace(6, 8, 20)\n",
    "zend_list_He = np.linspace(3.5, 8, 22)\n",
    "\n",
    "zends = np.zeros((zend_list_H.size, zend_list_He.size, 2))\n",
    "\n",
    "taus_tanh = np.zeros((zend_list_H.size, zend_list_He.size))\n",
    "taus_asym = np.zeros((zend_list_H.size, zend_list_He.size))\n",
    "\n",
    "for i in range(zend_list_H.size):\n",
    "    for j in range(zend_list_He.size):\n",
    "        zends[i,j,:] = zend_list_H[i], zend_list_He[j]\n",
    "        if zend_list_H[i] > zend_list_He[j]:\n",
    "            #print(zends[i,j])\n",
    "            taus_tanh[i,j] = xe2tau(z, xe_tanh(z,ze=zend_list_H[i], helium1_redshift=zend_list_He[j]))[0]\n",
    "            taus_asym[i,j] = xe2tau(z, xe_asym2(z, H_zend=zend_list_H[i], He_zend=zend_list_He[j],\n",
    "                                             helium1=True, helium2=True))[0]\n",
    "\n",
    "            x_e = xe_tanh(z, ze=zend_list_H[i], deltaz=.5, helium1=True, helium2=True,\n",
    "                        helium1_redshift=zend_list_He[j], helium1_deltaredshift=.5,\n",
    "                        helium2_redshift=heliumII_redshift, helium2_deltaredshift=heliumII_delta_redshift,)\n",
    "            plt.plot(z, x_e)"
   ]
  },
  {
   "cell_type": "code",
   "execution_count": null,
   "id": "47d27fbc",
   "metadata": {},
   "outputs": [],
   "source": [
    "for j in range(zend_list_He.size):\n",
    "    zends[i,j,:] = zend_list_H[i], zend_list_He[j]\n",
    "    if zend_list_H[i] > zend_list_He[j]:\n",
    "        #print(zends[i,j])\n",
    "        taus_tanh[i,j] = xe2tau(z, xe_tanh(z,ze=zend_list_H[i], helium1_redshift=zend_list_He[j]))[0]\n",
    "        taus_asym[i,j] = xe2tau(z, xe_asym2(z, H_zend=zend_list_H[i], He_zend=zend_list_He[j],\n",
    "                                         helium1=True, helium2=True))[0]\n",
    "\n",
    "        x_e = xe_tanh(z, ze=zend_list_H[i], deltaz=.5, helium1=True, helium2=True,\n",
    "                    helium1_redshift=zend_list_He[j], helium1_deltaredshift=.5,\n",
    "                    helium2_redshift=heliumII_redshift, helium2_deltaredshift=heliumII_delta_redshift,)\n",
    "        plt.plot(z, x_e)"
   ]
  },
  {
   "cell_type": "code",
   "execution_count": null,
   "id": "f0c8e185",
   "metadata": {},
   "outputs": [],
   "source": [
    "tau_Planck = 0.0540\n",
    "sigma_Planck = 0.0074\n",
    "sigma_Litebird = 0.002\n",
    "\n",
    "#tau_asym_mask = (taus_asym > 0.0540 - 0.0074) & (taus_asym < 0.0540 + 0.0074)\n",
    "tau_tanh_mask_Planck = (taus_tanh > tau_Planck - sigma_Planck) & (taus_tanh < tau_Planck + sigma_Planck)\n",
    "tau_tanh_mask_Litebird = (taus_tanh > tau_Planck - sigma_Litebird) & (taus_tanh < tau_Planck + sigma_Litebird)\n",
    "\n",
    "# referencing https://arxiv.org/pdf/2202.02773.pdf Litebird Fig. 47"
   ]
  },
  {
   "cell_type": "code",
   "execution_count": null,
   "id": "5106477a",
   "metadata": {},
   "outputs": [],
   "source": [
    "taus_tanh[tau_tanh_mask_Litebird]"
   ]
  },
  {
   "cell_type": "code",
   "execution_count": null,
   "id": "ced2c327",
   "metadata": {},
   "outputs": [],
   "source": [
    "zend_list_H[np.where(tau_tanh_mask_Litebird == True)[0]]"
   ]
  },
  {
   "cell_type": "code",
   "execution_count": null,
   "id": "ca2ebf11",
   "metadata": {},
   "outputs": [],
   "source": [
    "#from mpltools import color\n",
    "\n",
    "#n_lines = 16\n",
    "#color.cycle_cmap(n_lines, ax=ax[0])\n",
    "\n",
    "colors = plt.cm.Spectral(np.linspace(0,1,25))\n",
    "\n",
    "fig, ax = plt.subplots(1, 2, sharey=True, figsize=(12,5))\n",
    "\n",
    "for i in range(zend_list_He.size):\n",
    "    z_H = []\n",
    "    taus = []\n",
    "    for j in range(zend_list_H.size):\n",
    "        #print(zend_list_H[i], zend_list_He[j])\n",
    "        if zend_list_H[j] > zend_list_He[i]:\n",
    "            z_H.append(zend_list_H[j])\n",
    "            taus.append(taus_tanh[j,i])\n",
    "    \n",
    "    ax[0].plot(z_H, taus, label=r'$z_{\\mathrm{HeI}}=$' + str(zend_list_He[i])[:3], color=colors[i])\n",
    "\n",
    "    ax[0].set_xlabel('redshift of HI reionization')\n",
    "    ax[0].set_ylabel('optical depth')\n",
    "    \n",
    "for i in range(zend_list_H.size):\n",
    "    z_He = []\n",
    "    taus = []\n",
    "    for j in range(zend_list_He.size):\n",
    "        #print(zend_list_H[i], zend_list_He[j])\n",
    "        if zend_list_H[i] > zend_list_He[j]:\n",
    "            z_He.append(zend_list_He[j])\n",
    "            taus.append(taus_tanh[i,j])\n",
    "    \n",
    "    ax[1].plot(z_He, taus, label=r'$z_{\\mathrm{HI}}=$' + str(zend_list_H[i])[:3], color=colors[i])\n",
    "\n",
    "    ax[1].set_xlabel('redshift of HeI reionization')\n",
    "  #  ax[1].set_ylabel('optical depth')\n",
    "    \n",
    "ax[0].axhline(tau_Planck, color='black', alpha=.5)\n",
    "ax[1].axhline(tau_Planck, color='black', alpha=.5)\n",
    "\n",
    "ax[0].fill_between(zend_list_H, np.ones_like(zend_list_H) * tau_Planck,\n",
    "                       np.ones_like(zend_list_H) * (tau_Planck + sigma_Planck), color='gray', alpha=.2)\n",
    "ax[0].fill_between(zend_list_H, np.ones_like(zend_list_H) * tau_Planck,\n",
    "                       np.ones_like(zend_list_H) * (tau_Planck - sigma_Planck), color='gray', alpha=.2)\n",
    "\n",
    "ax[1].fill_between(zend_list_He, np.ones_like(zend_list_He) * tau_Planck,\n",
    "                       np.ones_like(zend_list_He) * (tau_Planck + sigma_Planck), color='gray', alpha=.2)\n",
    "ax[1].fill_between(zend_list_He, np.ones_like(zend_list_He) * tau_Planck,\n",
    "                       np.ones_like(zend_list_He) * (tau_Planck - sigma_Planck), color='gray', alpha=.2)\n",
    "\n",
    "ax[0].set_xlim(zend_list_H[0], zend_list_H[-1])\n",
    "ax[1].set_xlim(zend_list_He[0], zend_list_He[-1])\n",
    "\n",
    "ax[0].legend(fontsize=12)\n",
    "ax[1].legend(fontsize=12)\n",
    "\n",
    "fig.tight_layout()"
   ]
  },
  {
   "cell_type": "code",
   "execution_count": null,
   "id": "08ceb142",
   "metadata": {},
   "outputs": [],
   "source": [
    "import matplotlib.colors \n",
    "\n",
    "fig, ax = plt.subplots(1,2,figsize=(10,15))\n",
    "\n",
    "im = ax[0].imshow(taus_tanh, extent=[zend_list_He[0], zend_list_He[-1],\n",
    "                                             zend_list_H[0], zend_list_H[-1]],\n",
    "               norm=matplotlib.colors.CenteredNorm(tau_Planck))\n",
    "\n",
    "im2 = ax[1].imshow(taus_asym, extent=[zend_list_He[0], zend_list_He[-1],\n",
    "                                             zend_list_H[0], zend_list_H[-1]],\n",
    "                norm=matplotlib.colors.CenteredNorm(tau_Planck))\n",
    "\n",
    "# im3 = ax[2].imshow(taus_asym / taus_tanh, extent=[zend_list_He[0], zend_list_He[-1],\n",
    "#                                              zend_list_H[0], zend_list_H[-1]],\n",
    "#                cmap=cmap, vmin=1e-5)\n",
    "\n",
    "#labels_H = [str(z) for z in zend_list_H]\n",
    "\n",
    "# Show all ticks and label them with the respective list entries\n",
    "#ax.set_xticks(np.arange(len(zend_list_He)))#, labels=str(zend_list_He))\n",
    "#ax.set_yticks(np.arange(len(zend_list_H)), labels=labels_H)\n",
    "\n",
    "# Rotate the tick labels and set their alignment.\n",
    "# plt.setp(ax.get_xticklabels(), rotation=45, ha=\"right\",\n",
    "#          rotation_mode=\"anchor\")\n",
    "\n",
    "\n",
    "# # Loop over data dimensions and create text annotations.\n",
    "# for i in range(len(zend_list_H)):\n",
    "#         for j in range(len(zend_list_He)):\n",
    "#             text = ax.text(j, i, zends[i, j],\n",
    "#                             ha=\"center\", va=\"center\", color=\"w\", fontsize=12)\n",
    "\n",
    "ax[0].set_xlabel('redshift of He')\n",
    "ax[1].set_xlabel('redshift of He')\n",
    "\n",
    "ax[0].set_ylabel('redshift of H')\n",
    "\n",
    "#fig.colorbar(im)"
   ]
  },
  {
   "cell_type": "code",
   "execution_count": null,
   "id": "604f348b",
   "metadata": {},
   "outputs": [],
   "source": []
  },
  {
   "cell_type": "code",
   "execution_count": null,
   "id": "071d4802",
   "metadata": {},
   "outputs": [],
   "source": [
    "import matplotlib as mpl\n",
    "\n",
    "fig, ax = plt.subplots(1,2,figsize=(10,5))\n",
    "\n",
    "cmap = mpl.cm.get_cmap(\"viridis\").copy()\n",
    "cmap.set_under(color='black')   \n",
    "cmap.set_bad(color='white')\n",
    "\n",
    "taus_Planck_masked = np.ma.masked_where(((taus_tanh > tau_Planck + sigma_Planck) > 0) | ((taus_tanh < tau_Planck - sigma_Planck) > 0), taus_tanh)\n",
    "taus_Litebird_masked = np.ma.masked_where(((taus_tanh > tau_Planck + sigma_Litebird) > 0) | ((taus_tanh < tau_Planck - sigma_Litebird) > 0), taus_tanh)\n",
    "\n",
    "im = ax[0].imshow(taus_Planck_masked, extent=[zend_list_He[0], zend_list_He[-1],\n",
    "                                             zend_list_H[0], zend_list_H[-1]],\n",
    "               cmap=cmap, vmin=1e-5, aspect='auto')\n",
    "\n",
    "im2 = ax[1].imshow(taus_Litebird_masked, extent=[zend_list_He[0], zend_list_He[-1],\n",
    "                                             zend_list_H[0], zend_list_H[-1]],\n",
    "               cmap=cmap, vmin=1e-5, aspect='auto')\n",
    "\n",
    "#labels_H = [str(z) for z in zend_list_H]\n",
    "\n",
    "# Show all ticks and label them with the respective list entries\n",
    "#ax.set_xticks(np.arange(len(zend_list_He)))#, labels=str(zend_list_He))\n",
    "#ax.set_yticks(np.arange(len(zend_list_H)), labels=labels_H)\n",
    "\n",
    "# Rotate the tick labels and set their alignment.\n",
    "# plt.setp(ax.get_xticklabels(), rotation=45, ha=\"right\",\n",
    "#          rotation_mode=\"anchor\")\n",
    "\n",
    "\n",
    "# # Loop over data dimensions and create text annotations.\n",
    "for i in range(len(zend_list_H)):\n",
    "        for j in range(len(zend_list_He)):\n",
    "            text = ax[0].text(j, i, zends[i, j],\n",
    "                            ha=\"center\", va=\"center\", color=\"w\", fontsize=12)\n",
    "\n",
    "ax[0].set_xlabel('redshift of He')\n",
    "ax[1].set_xlabel('redshift of He')\n",
    "\n",
    "ax[0].set_ylabel('redshift of H')\n",
    "\n",
    "ax[0].set_title('Planck constraints')\n",
    "ax[1].set_title('Litebird constraints')\n",
    "\n",
    "#fig.colorbar(im)"
   ]
  },
  {
   "cell_type": "code",
   "execution_count": null,
   "id": "44f8b2fd",
   "metadata": {},
   "outputs": [],
   "source": [
    "zends.shape, zend_list_He.shape, zend_list_H.shape"
   ]
  },
  {
   "cell_type": "code",
   "execution_count": null,
   "id": "3d3685d5",
   "metadata": {},
   "outputs": [],
   "source": [
    "fig, ax = plt.subplots()\n",
    "im = ax.imshow(taus_Planck_masked)\n",
    "\n",
    "# Show all ticks and label them with the respective list entries\n",
    "ax.set_xticks(np.arange(len(zend_list_He)),\n",
    "                      labels=[str(zend_list_He[i])[:4] for i in range(len(zend_list_He))])\n",
    "ax.set_yticks(np.arange(len(zend_list_H)), \n",
    "                      labels=[str(zend_list_H[i])[:4] for i in range(len(zend_list_H))])\n",
    "\n",
    "# Rotate the tick labels and set their alignment.\n",
    "plt.setp(ax.get_xticklabels(), ha=\"right\",\n",
    "         rotation_mode=\"anchor\")\n",
    "\n",
    "# Loop over data dimensions and create text annotations.\n",
    "for i in range(len(zend_list_He)):\n",
    "    for j in range(len(zend_list_H)):\n",
    "        text = ax.text(j, i, taus_Planck_masked[j,i],\n",
    "                       ha=\"center\", va=\"center\", color='pink', fontsize=10)\n",
    "\n",
    "ax.set_title(\"Harvest of local farmers (in tons/year)\")\n",
    "fig.tight_layout()"
   ]
  },
  {
   "cell_type": "code",
   "execution_count": null,
   "id": "eb0980d4",
   "metadata": {},
   "outputs": [],
   "source": [
    "str(taus_tanh[10,1])[1:6], tau_Planck + sigma_Litebird"
   ]
  },
  {
   "cell_type": "code",
   "execution_count": null,
   "id": "54f37614",
   "metadata": {},
   "outputs": [],
   "source": [
    "fig, ax = plt.subplots(figsize=(10,10))\n",
    "im = ax.imshow(taus_Planck_masked)\n",
    "\n",
    "# Show all ticks and label them with the respective list entries\n",
    "ax.set_xticks(np.arange(len(zend_list_He)),\n",
    "                      labels=[str(zend_list_He[i])[:4] for i in range(len(zend_list_He))])\n",
    "ax.set_yticks(np.arange(len(zend_list_H)), \n",
    "                      labels=[str(zend_list_H[i])[:4] for i in range(len(zend_list_H))])\n",
    "\n",
    "# Rotate the tick labels and set their alignment.\n",
    "plt.setp(ax.get_xticklabels(), rotation=45, ha=\"right\",\n",
    "         rotation_mode=\"anchor\")\n",
    "\n",
    "# Loop over data dimensions and create text annotations.\n",
    "for i in range(len(zend_list_H)):\n",
    "    for j in range(len(zend_list_He)):\n",
    "        text = ax.text(j, i, str(taus_tanh[i, j])[1:6],\n",
    "                       ha=\"center\", va=\"center\", color=\"k\", fontsize=10)\n",
    "\n",
    "ax.set_title(\"Planck allowed optical depths\")\n",
    "fig.tight_layout()\n",
    "plt.show()"
   ]
  },
  {
   "cell_type": "code",
   "execution_count": null,
   "id": "598fafaa",
   "metadata": {},
   "outputs": [],
   "source": [
    "fig, ax = plt.subplots(figsize=(10,10))\n",
    "im = ax.imshow(taus_Litebird_masked)\n",
    "\n",
    "# Show all ticks and label them with the respective list entries\n",
    "ax.set_xticks(np.arange(len(zend_list_He)),\n",
    "                      labels=[str(zend_list_He[i])[:4] for i in range(len(zend_list_He))])\n",
    "ax.set_yticks(np.arange(len(zend_list_H)), \n",
    "                      labels=[str(zend_list_H[i])[:4] for i in range(len(zend_list_H))])\n",
    "\n",
    "# Rotate the tick labels and set their alignment.\n",
    "plt.setp(ax.get_xticklabels(), rotation=45, ha=\"right\",\n",
    "         rotation_mode=\"anchor\")\n",
    "\n",
    "# Loop over data dimensions and create text annotations.\n",
    "for i in range(len(zend_list_H)):\n",
    "    for j in range(len(zend_list_He)):\n",
    "        text = ax.text(j, i, str(taus_tanh[i, j])[1:6],\n",
    "                       ha=\"center\", va=\"center\", color=\"magenta\", fontsize=11)\n",
    "\n",
    "ax.set_title(\"Litebird allowed optical depths\")\n",
    "fig.tight_layout()\n",
    "plt.show()"
   ]
  },
  {
   "cell_type": "markdown",
   "id": "55c91c6a",
   "metadata": {},
   "source": [
    "### Impact of reionization on CMB spectra"
   ]
  },
  {
   "cell_type": "code",
   "execution_count": null,
   "id": "94a05ff3",
   "metadata": {},
   "outputs": [],
   "source": [
    "def gen_CMB_from_reion(z, H_redshift, HeI_redshift, heliumI_redshiftstart=10.0):\n",
    "    # Set up a new set of parameters for CAMB. This will be our fiducial model\n",
    "    pars = camb.CAMBparams()\n",
    "    # This function sets up CosmoMC-like settings, with one massive neutrino \n",
    "    # and helium set using BBN consistency\n",
    "    pars.set_cosmology(H0=67.5, ombh2=0.022, omch2=0.122, mnu=0.06, omk=0) #, tau=0.0544)\n",
    "    pars.InitPower.set_params(As=2e-9, ns=0.965, r=0)\n",
    "    pars.set_for_lmax(2500, lens_potential_accuracy=0)\n",
    "    \n",
    "   # print(pars.Reion.optical_depth)\n",
    "    \n",
    "    pars.Reion.use_optical_depth = False\n",
    "    pars.Reion.redshift = H_redshift\n",
    "    pars.Reion.heliumI_redshift = HeI_redshift\n",
    "    pars.Reion.heliumI_delta_redshift  = .5\n",
    "    pars.Reion.heliumI_redshiftstart  = heliumI_redshiftstart\n",
    "\n",
    "    results = camb.get_results(pars)\n",
    "       \n",
    "    x_e = results.get_background_redshift_evolution(z, vars=['x_e'])\n",
    "    powers = results.get_cmb_power_spectra(pars, CMB_unit='muK')\n",
    "    \n",
    "    totCL = powers['total']\n",
    "    \n",
    "    #print(pars.Reion.heliumI_redshift)\n",
    "    return x_e['x_e'], totCL\n",
    "\n",
    "def plot_CMB_from_reion(ax, totCL, fiducial, color, ls, label):\n",
    "    ells = np.arange(totCL.shape[0])\n",
    "    \n",
    "    ax[0,0].plot(ells,totCL[:,0], color=color, ls=ls, label=label)\n",
    "    ax[0,1].plot(ells,totCL[:,1], color=color, ls=ls, label=label)\n",
    "    ax[0,2].plot(ells,totCL[:,2], color=color, ls=ls, label=label)\n",
    "    ax[0,3].plot(ells,totCL[:,3], color=color, ls=ls, label=label)\n",
    "\n",
    "    ax[1,0].plot(ells[2:], 1-totCL[2:,0]/fiducial[2:,0], color=color, ls=ls)\n",
    "    ax[1,1].plot(ells[2:], 1-totCL[2:,1]/fiducial[2:,1], color=color, ls=ls)\n",
    "    ax[1,2].plot(ells[2:], 1-totCL[2:,2]/fiducial[2:,2], color=color, ls=ls)\n",
    "    ax[1,3].plot(ells[2:], 1-totCL[2:,3]/fiducial[2:,3], color=color, ls=ls)\n",
    "\n",
    "# ax[0,0].plot(ells,totCL[:,0], color='k')\n",
    "# ax[0,0].plot(ells,unlensedCL[:,0], color='r')\n",
    "# ax[0,0].set_title('TT')\n",
    "# ax[0,1].plot(ells[2:], 1-unlensedCL[2:,0]/totCL[2:,0]);\n",
    "# ax[0,1].set_title(r'$\\Delta TT$')\n",
    "# ax[1,0].plot(ells,totCL[:,1], color='k')\n",
    "# ax[1,0].plot(ells,unlensedCL[:,1], color='r')\n",
    "# ax[1,0].set_title(r'$EE$')\n",
    "# ax[1,1].plot(ells,totCL[:,3], color='k')\n",
    "# ax[1,1].plot(ells,unlensedCL[:,3], color='r')\n",
    "# ax[1,1].set_title(r'$TE$');\n",
    "# for ax in ax.reshape(-1): ax.set_xlim([2,2500]);\n",
    "\n",
    " #   [ax[1,i].set_yscale('log') for i in range(ax[1,:].size)]\n",
    "\n",
    "    ax[0,0].set_title('$TT$')\n",
    "    ax[0,1].set_title('$EE$')\n",
    "    ax[0,2].set_title('$BB$')\n",
    "    ax[0,3].set_title('$TE$')\n",
    "\n",
    "    ax[1,0].set_title('$\\Delta TT$')\n",
    "    ax[1,1].set_title('$\\Delta EE$')\n",
    "    ax[1,2].set_title('$\\Delta BB$')\n",
    "    ax[1,3].set_title('$\\Delta TE$')"
   ]
  },
  {
   "cell_type": "code",
   "execution_count": null,
   "id": "675c920c",
   "metadata": {},
   "outputs": [],
   "source": [
    "zends[tau_tanh_mask_Planck].size"
   ]
  },
  {
   "cell_type": "code",
   "execution_count": null,
   "id": "d7142f41",
   "metadata": {
    "scrolled": false
   },
   "outputs": [],
   "source": [
    "Cls_list = np.zeros((len(zends[tau_tanh_mask_Planck]), 2551, 4))\n",
    "zH_old = 0\n",
    "p_i = -1\n",
    "\n",
    "print('tau min is', tau_Planck - sigma_Planck, 'and tau max is', tau_Planck + sigma_Planck)\n",
    "for i in range(len(zends[tau_tanh_mask_Planck])):\n",
    "    zH, zHe = zends[tau_tanh_mask_Planck][i]\n",
    "    if zH == zH_old:\n",
    "        p_i += 1\n",
    "        if p_i >= len(palette):\n",
    "            p_i = 0\n",
    "    zH_old = cp.deepcopy(zH)\n",
    "#     plt.plot(z[50:300], xe_tanh(z,ze=zH, deltaz=0.5, helium1=True, helium1_redshift=zHe,\n",
    "#                         helium1_deltaredshift=.5,\n",
    "#                         helium2=True)[50:300], color=palette[0], alpha=.25)\n",
    "    \n",
    "#     plt.plot(z[50:300], xe_asym2(z, H_zend=zH, He_zend=zHe, helium1=True, helium2=True)[50:300],\n",
    "#                                color=palette[1], alpha=.25)\n",
    "    \n",
    "    x_e, Cls_list[i] =  gen_CMB_from_reion(z, zH, zHe)\n",
    "    # print(xe2tau(z, x_e)[0])\n",
    "    plt.plot(z[50:300], x_e[50:300], color=palette[p_i], alpha=.1)\n"
   ]
  },
  {
   "cell_type": "code",
   "execution_count": null,
   "id": "524521f3",
   "metadata": {},
   "outputs": [],
   "source": [
    "fig, ax = plt.subplots(2,4, figsize=(10,8))\n",
    "\n",
    "fiducial = gen_CMB_from_reion(z, 7, 5.5)[1]\n",
    "ells = np.arange(fiducial.shape[0])\n",
    "\n",
    "ell_max = 1000\n",
    "\n",
    "ax[0,0].set_xlim(0, ell_max)\n",
    "\n",
    "ax[0,1].set_xlim(0, 50)\n",
    "ax[0,1].set_ylim(-.05, .2)\n",
    "\n",
    "ax[0,2].set_xlim(0, 200)\n",
    "ax[0,2].set_ylim(-.005, .02)\n",
    "\n",
    "ax[0,3].set_xlim(0, 20)\n",
    "ax[0,3].set_ylim(-1, 5)\n",
    "\n",
    "ax[1,0].set_xlim(0, ell_max)\n",
    "ax[1,1].set_xlim(0, 50)\n",
    "ax[1,2].set_xlim(0, 200)\n",
    "ax[1,3].set_xlim(0, 20)\n",
    "\n",
    "# [ax[0,i].set_xlim(ells[10], ells[-1]) for i in range(4)]\n",
    "# [ax[1,i].set_xlim(ells[10], ells[-1]) for i in range(4)]\n",
    "\n",
    "# ax[1,0].set_ylim(-.005, 0.02)\n",
    "# ax[1,1].set_ylim(-.005, 0.02)\n",
    "# ax[1,2].set_ylim(-.005, 0.020)\n",
    "# ax[1,3].set_ylim(-.005, .020)\n",
    "\n",
    "fig.tight_layout()\n",
    "\n",
    "#NUM_COLORS = len(zends[tau_tanh_mask])\n",
    "\n",
    "# #cm = plt.get_cmap('gist_rainbow')\n",
    "# ax.set_prop_cycle(color=[cm(1.*i/NUM_COLORS) for i in range(NUM_COLORS)])\n",
    "# for i in range(NUM_COLORS):\n",
    "#     ax.plot(np.arange(10)*(i+1))\n",
    "\n",
    "\n",
    "for i in range(len(zends[tau_tanh_mask_Planck])):\n",
    "    zH, zHe = zends[tau_tanh_mask_Planck][i]\n",
    "    plot_CMB_from_reion(ax, Cls_list[i], fiducial, palette[i%5], '-', 'None')\n",
    " \n"
   ]
  },
  {
   "cell_type": "code",
   "execution_count": null,
   "id": "185d21dd",
   "metadata": {},
   "outputs": [],
   "source": [
    "for i, zs in enumerate(zre_He):\n",
    "    for j, dz in enumerate(deltaz_HeI):\n",
    "        x_e, Cls =  gen_CMB_from_reion(z, zs, dz)\n",
    "        ion_histories[i,j,:] = x_e\n",
    "        spectras[i,j,:,:] = Cls"
   ]
  },
  {
   "cell_type": "code",
   "execution_count": null,
   "id": "33832fd1",
   "metadata": {},
   "outputs": [],
   "source": [
    "fig, ax = plt.subplots(2,4, figsize=(12,8))\n",
    "\n",
    "for i, zs in enumerate(z_HeI):\n",
    "    for j, dz in enumerate(deltaz_HeI):\n",
    "        if j==0:\n",
    "            label = 'z=' + str(zs) \n",
    "        else:\n",
    "            label = '' \n",
    "\n",
    "        plot_CMB_from_reion(ax, spectras[i,j], spectras[2,1], palette[i],\n",
    "                            ls_list[j], label)\n",
    "\n",
    "ell_max = 1000\n",
    "\n",
    "ax[0,0].set_xlim(0, ell_max)\n",
    "\n",
    "ax[0,1].set_xlim(0, 50)\n",
    "ax[0,1].set_ylim(-.05, .2)\n",
    "\n",
    "ax[0,2].set_xlim(0, 200)\n",
    "ax[0,2].set_ylim(-.005, .02)\n",
    "\n",
    "ax[0,3].set_xlim(0, 20)\n",
    "ax[0,3].set_ylim(-1, 5)\n",
    "\n",
    "ax[1,0].set_xlim(0, ell_max)\n",
    "ax[1,1].set_xlim(0, 50)\n",
    "ax[1,2].set_xlim(0, 200)\n",
    "ax[1,3].set_xlim(0, 20)\n",
    "\n",
    "#ax[1,0].set_yscale('log')\n",
    "\n",
    "\n",
    "ax[0,3].legend(fontsize=13, bbox_to_anchor=(1,1.09))\n",
    "\n"
   ]
  },
  {
   "cell_type": "markdown",
   "id": "f3251490",
   "metadata": {},
   "source": [
    "From here, it's clear that the dominant contribution to the change in CMB spectra is due to the redshift of hydrogen reionization. But what impact does the helium reionization have? Let's fix our redshift of hydrogen reionization, and zoom in on the helium redshifts."
   ]
  },
  {
   "cell_type": "code",
   "execution_count": null,
   "id": "b8d07400",
   "metadata": {},
   "outputs": [],
   "source": [
    "fig, ax = plt.subplots(2,4, figsize=(12,8))\n",
    "\n",
    "i = 1\n",
    "for j, dz in enumerate(deltaz_HeI):\n",
    "    plot_CMB_from_reion(ax, spectras[i,j], spectras[i,1], palette[i],\n",
    "                        ls_list[j], 'dz=' + str(dz) )\n",
    "\n",
    "ell_max = 1000\n",
    "\n",
    "ax[0,0].set_xlim(0, ell_max)\n",
    "\n",
    "ax[0,1].set_xlim(0, 50)\n",
    "ax[0,1].set_ylim(-.05, .2)\n",
    "\n",
    "ax[0,2].set_xlim(0, 200)\n",
    "ax[0,2].set_ylim(-.005, .02)\n",
    "\n",
    "ax[0,3].set_xlim(0, 50)\n",
    "ax[0,3].set_ylim(-1, 5)\n",
    "\n",
    "ax[1,0].set_xlim(0, ell_max)\n",
    "\n",
    "ax[1,1].set_xlim(0, 50)\n",
    "ax[1,1].set_ylim(-.0004, .0004)\n",
    "\n",
    "ax[1,2].set_xlim(0, 200)\n",
    "\n",
    "ax[1,3].set_xlim(0, 50)\n",
    "ax[1,3].set_ylim(-.0004, .0004)\n",
    "\n",
    "#ax[1,0].set_yscale('log')\n",
    "\n",
    "\n",
    "ax[0,3].legend(fontsize=13, bbox_to_anchor=(1,1.09))\n",
    "\n",
    "fig.tight_layout()"
   ]
  },
  {
   "cell_type": "markdown",
   "id": "523bccb5",
   "metadata": {},
   "source": [
    "### Impact of reionization on ksZ spectra"
   ]
  },
  {
   "cell_type": "code",
   "execution_count": null,
   "id": "f5957b91",
   "metadata": {},
   "outputs": [],
   "source": [
    "Cls_shape = (2551,4)"
   ]
  },
  {
   "cell_type": "code",
   "execution_count": null,
   "id": "67c20591",
   "metadata": {},
   "outputs": [],
   "source": [
    "# zends[tau_asym_mask].shape, zends[tau_tanh_mask]"
   ]
  },
  {
   "cell_type": "code",
   "execution_count": null,
   "id": "b43f7510",
   "metadata": {},
   "outputs": [],
   "source": [
    "import time\n",
    "# H reion parameters\n",
    "zre_H = 7.\n",
    "zend_H = 5.8\n",
    "xe_H = xe_asym(z, zend_H, zre_H,\n",
    "               helium1=True,\n",
    "               helium2=True)\n",
    "\n",
    "# simultaneous H and He reion\n",
    "ksz_sim = KSZ_power(dz = zre_H-zend_H, zre=zre_H,\n",
    "                                    include_heliumI_fullreion=False,\n",
    "                                    include_heliumII_fullreion=False)"
   ]
  },
  {
   "cell_type": "code",
   "execution_count": null,
   "id": "7159573b",
   "metadata": {},
   "outputs": [],
   "source": [
    "ksz_sim.init_reionisation_history()"
   ]
  },
  {
   "cell_type": "code",
   "execution_count": null,
   "id": "d3fdf0e2",
   "metadata": {},
   "outputs": [],
   "source": [
    "ksz_sim.run_camb()"
   ]
  },
  {
   "cell_type": "code",
   "execution_count": null,
   "id": "adefedb5",
   "metadata": {},
   "outputs": [],
   "source": [
    "start = time.time()\n",
    "Dls1 = ksz_sim.run_ksz(ells, Dells=True)\n",
    "end = time.time()"
   ]
  },
  {
   "cell_type": "code",
   "execution_count": null,
   "id": "48dde155",
   "metadata": {},
   "outputs": [],
   "source": [
    "Dls_list[0][0][:,0]"
   ]
  },
  {
   "cell_type": "code",
   "execution_count": null,
   "id": "97ff51ce",
   "metadata": {},
   "outputs": [],
   "source": [
    "print('Time spent was', end-start, 'seconds')"
   ]
  },
  {
   "cell_type": "code",
   "execution_count": null,
   "id": "400cb347",
   "metadata": {},
   "outputs": [],
   "source": [
    "Dls.shape"
   ]
  },
  {
   "cell_type": "code",
   "execution_count": null,
   "id": "2b6ae45f",
   "metadata": {},
   "outputs": [],
   "source": [
    "zends[tau_tanh_mask]"
   ]
  },
  {
   "cell_type": "markdown",
   "id": "3dd95a5e",
   "metadata": {},
   "source": [
    "### ksZ simulations"
   ]
  },
  {
   "cell_type": "code",
   "execution_count": null,
   "id": "ff77e06b",
   "metadata": {},
   "outputs": [],
   "source": [
    "for i in range(len(zends[tau_tanh_mask])):\n",
    "    plt.plot(ells, Dls_list[i,:,0])"
   ]
  },
  {
   "cell_type": "code",
   "execution_count": null,
   "id": "eaa361f0",
   "metadata": {},
   "outputs": [],
   "source": [
    "ells = np.linspace(100, 10000, 20)\n",
    "\n",
    "Dls_list = np.zeros((15, ells.size, 2))\n",
    "for i in range(len(zends[tau_tanh_mask])):\n",
    "    print('Now on run', i, '...')\n",
    "    zH, zHe = zends[tau_tanh_mask][i]\n",
    "#     plt.plot(z[50:300], xe_tanh(z,ze=zH, deltaz=0.5, helium1=True, helium1_redshift=zHe,\n",
    "#                         helium1_deltaredshift=.5,\n",
    "#                         helium2=True)[50:300], color=palette[0], alpha=.25)\n",
    "    \n",
    "#     plt.plot(z[50:300], xe_asym2(z, H_zend=zH, He_zend=zHe, helium1=True, helium2=True)[50:300],\n",
    "#                                color=palette[1], alpha=.25)\n",
    "    ksz_sim = KSZ_power(dz=.5, zre=zH, heliumI_redshift=zHe, heliumI_delta_redshift=.5)\n",
    "    ksz_sim.init_reionisation_history()\n",
    "    ksz_sim.run_camb()\n",
    "    Dls = ksz_sim.run_ksz(ells, Dells=True)\n",
    "    \n",
    "    Dls_list[i] = Dls\n"
   ]
  },
  {
   "cell_type": "code",
   "execution_count": null,
   "id": "87cddfda",
   "metadata": {},
   "outputs": [],
   "source": [
    "for i in range(Dls_list.s)"
   ]
  },
  {
   "cell_type": "code",
   "execution_count": null,
   "id": "25208511",
   "metadata": {},
   "outputs": [],
   "source": [
    "ksz_sim1 = KSZ_power(dz=.5, zre=7, heliumI_redshift=6.0, heliumI_delta_redshift=.5)\n",
    "ksz_sim1.init_reionisation_history()\n",
    "ksz_sim1.run_camb()\n",
    "Dls1 = ksz_sim1.run_ksz(ells, Dells=True)"
   ]
  },
  {
   "cell_type": "code",
   "execution_count": null,
   "id": "e64fdd6f",
   "metadata": {},
   "outputs": [],
   "source": [
    "plt.plot(ells, Dls1[:,0])\n",
    "plt.plot(ells, Dls2[:,0])"
   ]
  },
  {
   "cell_type": "code",
   "execution_count": null,
   "id": "49245f6d",
   "metadata": {},
   "outputs": [],
   "source": [
    "Dls1.shape, ells.shape"
   ]
  },
  {
   "cell_type": "code",
   "execution_count": null,
   "id": "97fe9302",
   "metadata": {},
   "outputs": [],
   "source": [
    "ksz_sim2 = KSZ_power(dz=.5, zre=7, heliumI_redshift=5.5, heliumI_delta_redshift=.5)\n",
    "ksz_sim2.init_reionisation_history()\n",
    "ksz_sim2.run_camb()\n",
    "Dls2 = ksz_sim2.run_ksz(ells, Dells=True)"
   ]
  },
  {
   "cell_type": "code",
   "execution_count": null,
   "id": "92092e80",
   "metadata": {},
   "outputs": [],
   "source": [
    "Add neutral hydrogen fraction"
   ]
  }
 ],
 "metadata": {
  "kernelspec": {
   "display_name": "Python 3 (ipykernel)",
   "language": "python",
   "name": "python3"
  },
  "language_info": {
   "codemirror_mode": {
    "name": "ipython",
    "version": 3
   },
   "file_extension": ".py",
   "mimetype": "text/x-python",
   "name": "python",
   "nbconvert_exporter": "python",
   "pygments_lexer": "ipython3",
   "version": "3.11.0"
  }
 },
 "nbformat": 4,
 "nbformat_minor": 5
}
